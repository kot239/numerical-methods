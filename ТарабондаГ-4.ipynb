{
 "cells": [
  {
   "cell_type": "markdown",
   "metadata": {},
   "source": [
    "## Тарабонда Герман\n",
    "\n",
    "### Задание № 4"
   ]
  },
  {
   "cell_type": "markdown",
   "metadata": {},
   "source": [
    "### (A)\n",
    "\n",
    "Сначала проинтегрируем по-отдельности каждый член: $\\int\\limits_0^3 \\frac{dx}{k^2-k-x} = -\\log{|k^2-k-x|}\\big|_0^3 = \\log{|1+\\frac{3}{k^2-k-3}|}$\n",
    "Тепреь оценим остаток и найдем такое $n$, чтобы $R_n < \\varepsilon$:\n",
    "\n",
    "$R(x) \\leqslant \\int\\limits_n^\\infty \\log{|1+\\frac{3}{x^2-x-3}|}dx = \\frac{1}{2}(2x\\log{|1+\\frac{3}{x^2-x-3}|} + \\log{((1-2x)^2-13)} + \\sqrt{13}\\log{\\frac{(-2x+1+\\sqrt{13})^2}{(1-2x)^2-13}} - \\log{(1-x)^2}) \\big|_n^\\infty =$\n",
    "\n",
    "$\\log{2} - \\frac{1}{2}(2n\\log{|1+\\frac{3}{n^2-n-3}|} + \\log{((1-2n)^2-13)} + \\sqrt{13}\\log{\\frac{(-2n+1+\\sqrt{13})^2}{(1-2n)^2-13}} - \\log{(1-n)^2}) < \\varepsilon$"
   ]
  },
  {
   "cell_type": "code",
   "execution_count": 1,
   "metadata": {},
   "outputs": [],
   "source": [
    "import math\n",
    "import matplotlib.pyplot as plt\n",
    "import numpy as np"
   ]
  },
  {
   "cell_type": "code",
   "execution_count": 2,
   "metadata": {},
   "outputs": [],
   "source": [
    "def find_int_of_r_a(n: int) -> float:\n",
    "    return (math.log(2) - (2 * n * math.log(1 + 3 / (n * n - n - 3)) + \n",
    "                           math.log((1 - 2 * n) ** 2 - 13) +\n",
    "                           math.sqrt(13) * math.log(((-2 * n + 1 + math.sqrt(13)) ** 2)\n",
    "                                                   / ((1 - 2 * n) ** 2 - 13)) - \n",
    "                           math.log((1 - n) ** 2)) / 2)\n",
    "\n",
    "def find_n_for_a_sum(epsilon: float) -> int:\n",
    "    n = 3\n",
    "    while  find_int_of_r_a(n) >= epsilon:\n",
    "        n += 1\n",
    "    return n\n",
    "\n",
    "def calculate_int_member(n: int) -> float:\n",
    "    return math.log(1 + 3 / (n * n - n - 3))\n",
    "\n",
    "def int_of_sum_a(epsilon: float):\n",
    "    n = find_n_for_a_sum(epsilon)\n",
    "    print('Sum of: ' + str(n) + ' members')\n",
    "    return sum([calculate_int_member(k) for k in range(3, n + 1)])"
   ]
  },
  {
   "cell_type": "code",
   "execution_count": 3,
   "metadata": {},
   "outputs": [
    {
     "name": "stdout",
     "output_type": "stream",
     "text": [
      "Sum of: 29364947 members\n",
      "The integral of sum equals: 1.7558526960159755\n"
     ]
    }
   ],
   "source": [
    "I_0 = int_of_sum_a(1e-7)\n",
    "print('The integral of sum equals: ' + str(I_0))"
   ]
  },
  {
   "cell_type": "markdown",
   "metadata": {},
   "source": [
    "## (B)\n",
    "\n",
    "Теперь попробуем оценить количество слагаемых, которое нужно использовать при подсчете суммы. Пусть точность будет равна $\\varepsilon = 10^{-7}$. Тогда так как нам нужно будет сложить $m$ слагаемых для интеграла, то нам нужно, чтобы точность каждой посчитанной суммы должна быть равна: $\\varepsilon / 2m$ для составной формулы трапеции, так как у нас там $2m$ вычислений суммы и $\\varepsilon / 3m$ для составной формулы Симпсона, так как там $3m$ вычислений суммы. Будем считать сумму аналогично тому как считал во втором упражнении."
   ]
  },
  {
   "cell_type": "code",
   "execution_count": 4,
   "metadata": {},
   "outputs": [],
   "source": [
    "def calculate_member(n: int, x: float) -> float:\n",
    "    return 1 / (n * n - n - x)\n",
    "\n",
    "def calculate_trap(n: int, a: float, b: float) -> float:\n",
    "    w_a = sum([calculate_member(k, a) for k in range(3, n + 1)])\n",
    "    w_b = sum([calculate_member(k, b) for k in range(3, n + 1)])\n",
    "    return (w_a + w_b) * (b - a) / 2\n",
    "\n",
    "def calculate_trap_int(n: int, m: int) -> float:\n",
    "    lines = [a + (b - a) * i / m for i in range(m + 1)]\n",
    "    return sum([calculate_trap(n, lines[i - 1], lines[i]) for i in range(1, len(lines))]) \n",
    "\n",
    "def calculate_simpson(n: int, a: float, b: float) -> float:\n",
    "    w_a = sum([calculate_member(k, a) for k in range(3, n + 1)])\n",
    "    w_m = sum([calculate_member(k, (a + b) / 2) for k in range(3, n + 1)])\n",
    "    w_b = sum([calculate_member(k, b) for k in range(3, n + 1)])\n",
    "    return (w_a + 4 * w_m + w_b) * (b - a) / 6\n",
    "\n",
    "def calculate_simpson_int(n: int, m: int) -> float:\n",
    "    lines = [a + (b - a) * i / m for i in range(m + 1)]\n",
    "    return sum([calculate_trap(n, lines[i - 1], lines[i]) for i in range(1, len(lines))])  "
   ]
  },
  {
   "cell_type": "markdown",
   "metadata": {},
   "source": [
    "В задание номер два, чтобы считать сумму быстрее, я использовал данные вычисления, которые я использую и в этом задании:\n",
    "\n",
    "Возьмем ряд $\\sum\\limits_{k=3}^{\\infty} b_k = \\sum\\limits_{k=3}^{\\infty} \\frac{1}{k^2} = \\frac{\\pi^2}{6} - \\frac{5}{4}$\n",
    "Так как $\\lim_{k \\rightarrow \\infty} \\frac{a_k}{b_k} = \\lim_{k \\rightarrow \\infty} \\frac{k^2}{k^2-k-z} = 1$, то можем использовать этот ряд для более быстрой сходимости $\\sum\\limits_{k=3}^{\\infty} \\frac{1}{k^2-k-z} = \\frac{\\pi^2}{6} - \\frac{5}{4} + \\sum\\limits_{k=3}^{\\infty} \\left( \\frac{1}{k^2-k-z} - \\frac{1}{k^2} \\right) = \\frac{\\pi^2}{6} - \\frac{5}{4} + \\sum\\limits_{k=3}^{\\infty} \\frac{k+z}{k^2(k^2-k-z)}$ \n",
    "\n",
    "Теперь оценим остаток: $|R_n| \\leqslant \\sum\\limits_{k = n + 1}^\\infty \\frac{k+z}{k^2(k^2-k-z)}$ \n",
    "Так как производная положительна по $z$: $\\left( \\frac{k+z}{k^2-k-z} \\right)' = \\frac{k^2}{(k^2-k-z)^2} > 0$, то возьмем $z = 3$: \n",
    "\n",
    "$|R_n| \\leqslant \\sum\\limits_{k = n + 1}^\\infty \\frac{k+z}{k^2(k^2-k-z)} \\leqslant \\sum\\limits_{k = n + 1}^\\infty \\frac{k+3}{k^2(k^2-k-3)} \\leqslant  \\int\\limits_{n}^\\infty \\frac{x+3}{x^2(x^2-x-3)}dx < \\varepsilon / 3m$\n",
    "\n",
    "Если взять $m = 100$, то тогда $n = 20000$. Такое $n$ и возьмем"
   ]
  },
  {
   "cell_type": "code",
   "execution_count": 10,
   "metadata": {},
   "outputs": [],
   "source": [
    "def count_supporting_sum(k: int, z: float) -> float:\n",
    "    return (k + z) / ((k * k) * (k * k - k - z))\n",
    "\n",
    "def count_wz(z: float) -> float:\n",
    "    return ((math.pi ** 2) / 6 - (5 / 4) +\n",
    "            sum([count_supporting_sum(k, z) for k in range(3, 20000)]))"
   ]
  },
  {
   "cell_type": "code",
   "execution_count": 11,
   "metadata": {},
   "outputs": [],
   "source": [
    "def calculate_trap(a: float, b: float) -> float:\n",
    "    w_a = count_wz(a)\n",
    "    w_b = count_wz(b)\n",
    "    return (w_a + w_b) * (b - a) / 2\n",
    "\n",
    "def calculate_trap_int(m: int, a: float, b: float) -> float:\n",
    "    lines = [a + (b - a) * i / m for i in range(m + 1)]\n",
    "    return sum([calculate_trap(lines[i - 1], lines[i]) for i in range(1, len(lines))]) \n",
    "\n",
    "def calculate_simpson(a: float, b: float) -> float:\n",
    "    w_a = count_wz(a)\n",
    "    w_m = count_wz((a + b) / 2)\n",
    "    w_b = count_wz(b)\n",
    "    return (w_a + 4 * w_m + w_b) * (b - a) / 6\n",
    "\n",
    "def calculate_simpson_int(m: int, a: float, b: float) -> float:\n",
    "    lines = [a + (b - a) * i / m for i in range(m + 1)]\n",
    "    return sum([calculate_simpson(lines[i - 1], lines[i]) for i in range(1, len(lines))])  "
   ]
  },
  {
   "cell_type": "code",
   "execution_count": 12,
   "metadata": {},
   "outputs": [
    {
     "name": "stdout",
     "output_type": "stream",
     "text": [
      "1.755852794444523\n"
     ]
    },
    {
     "data": {
      "image/png": "[encoded data removed]",
      "text/plain": [
       "<Figure size 432x288 with 1 Axes>"
      ]
     },
     "metadata": {
      "needs_background": "light"
     },
     "output_type": "display_data"
    }
   ],
   "source": [
    "eps = 1e-7\n",
    "Ms = range(10, 101)\n",
    "I_t = [calculate_trap_int(m, 0, 3) for m in Ms]\n",
    "I_s = [calculate_simpson_int(m, 0, 3) for m in Ms]\n",
    "print(I_s[-1])\n",
    "\n",
    "plt.plot(Ms, I_t, color='darkmagenta', label='trapezoid')\n",
    "plt.plot(Ms, I_s, color='darkgreen', label='Simpson')\n",
    "plt.grid()\n",
    "plt.legend()\n",
    "plt.show()"
   ]
  },
  {
   "cell_type": "code",
   "execution_count": 13,
   "metadata": {},
   "outputs": [],
   "source": [
    "def calculate_a2(x: float):\n",
    "    return sum([2 / ((k * k - k - x) ** 3) for k in range(3, 1000)])\n",
    "\n",
    "a2 = max([calculate_a2(x) for x in np.arange(0, 3, 0.1)])\n",
    "\n",
    "def calculate_a4(x: float):\n",
    "    return sum([24 / ((k * k - k - x) ** 5) for k in range(3, 1000)])\n",
    "\n",
    "a4 = max([calculate_a4(x) for x in np.arange(0, 3, 0.1)])\n",
    "\n",
    "def trap_accuracy(a: float, b: float, m: int) -> float:\n",
    "    return a2 * (b - a) ** 3 / (2 * m * m)\n",
    "\n",
    "def simpson_accuracy(a: float, b: float, m: int) -> float:\n",
    "    return a4 * (b - a) ** 5 / (2880 * (m ** 4))"
   ]
  },
  {
   "cell_type": "code",
   "execution_count": 14,
   "metadata": {},
   "outputs": [
    {
     "data": {
      "image/png": "[encoded data removed]",
      "text/plain": [
       "<Figure size 432x288 with 1 Axes>"
      ]
     },
     "metadata": {
      "needs_background": "light"
     },
     "output_type": "display_data"
    }
   ],
   "source": [
    "I_t_d = [abs(i - I_0) for i in I_t]\n",
    "I_s_d = [abs(i - I_0) for i in I_s]\n",
    "\n",
    "D_t = [trap_accuracy(0, 3, m) for m in Ms]\n",
    "D_s = [simpson_accuracy(0, 3, m) for m in Ms]\n",
    "\n",
    "plt.plot(Ms, I_t_d, color='darkmagenta', label='trapezoid')\n",
    "plt.plot(Ms, I_s_d, color='darkgreen', label='Simpson')\n",
    "plt.plot(Ms, D_t, color='darkviolet', label='trapezoid residual tail')\n",
    "plt.plot(Ms, D_s, color='forestgreen', label='Simpson residual tail')\n",
    "plt.yscale('log')\n",
    "plt.grid()\n",
    "plt.legend()\n",
    "plt.show()"
   ]
  },
  {
   "cell_type": "markdown",
   "metadata": {},
   "source": [
    "Можно увидеть, что по формуле Симпсона мы получаем более точные значения, в отличии от формулы трапеции, что и ожидалось, так как мы \"более точно\" описываем график функций\n",
    "\n",
    "Что по поводу теоретических значений. Практические остатки в целом меньше теоретических, что и совпадает с предположением. Но у нас проблема с тем, что в какой-то момент формула Симпсона не опускается ниже $10^{-7}$. Но это только из-за того, что мы поставили точность $10^{-7}$"
   ]
  },
  {
   "cell_type": "code",
   "execution_count": null,
   "metadata": {},
   "outputs": [],
   "source": []
  }
 ],
 "metadata": {
  "kernelspec": {
   "display_name": "Python 3",
   "language": "python",
   "name": "python3"
  },
  "language_info": {
   "codemirror_mode": {
    "name": "ipython",
    "version": 3
   },
   "file_extension": ".py",
   "mimetype": "text/x-python",
   "name": "python",
   "nbconvert_exporter": "python",
   "pygments_lexer": "ipython3",
   "version": "3.8.3"
  }
 },
 "nbformat": 4,
 "nbformat_minor": 4
}
